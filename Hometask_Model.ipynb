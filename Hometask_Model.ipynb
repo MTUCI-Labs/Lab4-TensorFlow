{
  "cells": [
    {
      "cell_type": "markdown",
      "metadata": {},
      "source": [
        "# Lab4-TensorFlow"
      ]
    },
    {
      "cell_type": "markdown",
      "metadata": {},
      "source": [
        "*Лабораторная работа №4: Обучению первой модели на TensorFlow для распознавания рукописных цифр на датасете MNIST*"
      ]
    },
    {
      "cell_type": "markdown",
      "metadata": {},
      "source": [
        "## Шаг 1: Загрузка и предобработка данных"
      ]
    },
    {
      "cell_type": "markdown",
      "metadata": {},
      "source": [
        "- Импортируйте необходимые библиотеки: tensorflow и tensorflow.keras.datasets.mnist"
      ]
    },
    {
      "cell_type": "code",
      "execution_count": 1,
      "metadata": {},
      "outputs": [
        {
          "name": "stderr",
          "output_type": "stream",
          "text": [
            "2024-04-19 17:52:11.171690: I tensorflow/core/platform/cpu_feature_guard.cc:210] This TensorFlow binary is optimized to use available CPU instructions in performance-critical operations.\n",
            "To enable the following instructions: AVX2 FMA, in other operations, rebuild TensorFlow with the appropriate compiler flags.\n"
          ]
        }
      ],
      "source": [
        "from __future__ import absolute_import, division, print_function, unicode_literals\n",
        "import tensorflow as tf\n",
        "import numpy as np\n",
        "import ssl\n",
        "from tensorflow.keras.datasets import mnist"
      ]
    },
    {
      "cell_type": "markdown",
      "metadata": {},
      "source": [
        "- Загрузите датасет MNIST с помощью функции mnist.loaddata()"
      ]
    },
    {
      "cell_type": "code",
      "execution_count": 2,
      "metadata": {},
      "outputs": [],
      "source": [
        "# Фикс ошибки с SSL сертификатами\n",
        "ssl._create_default_https_context = ssl._create_unverified_context\n",
        "\n",
        "\n",
        "# Загрузка датасета MNIST\n",
        "(x_train, y_train), (x_test, y_test) = mnist.load_data(path='mnist.npz')\n"
      ]
    },
    {
      "cell_type": "markdown",
      "metadata": {},
      "source": [
        "В этом фрагменте кода выполняются две основные операции.\n",
        "\n",
        "Первая строка кода - это решение проблемы с SSL-сертификатами. В Python модуль `ssl` используется для обеспечения безопасности сетевых соединений с помощью протокола SSL. В некоторых случаях, когда соединение с сервером не может быть защищено из-за проблем с SSL-сертификатом, можно использовать функцию `ssl._create_unverified_context()`. Эта функция создает новый контекст, который не проверяет сертификаты. Это может быть полезно для обхода ошибок сертификата, но следует использовать с осторожностью, так как это может сделать ваше соединение уязвимым для атак.\n",
        "\n",
        "Вторая часть кода загружает датасет MNIST. MNIST - это большой набор рукописных цифр, который часто используется для обучения различных систем машинного обучения. Функция `mnist.load_data()` загружает набор данных MNIST и возвращает два набора пар - обучающий набор и тестовый набор. Каждый набор содержит изображения и соответствующие им метки. Параметр `path` указывает путь, по которому следует загрузить данные. Если данные уже загружены, они будут прочитаны из этого места. Если нет - они будут загружены из Интернета и сохранены по указанному пути."
      ]
    },
    {
      "cell_type": "markdown",
      "metadata": {},
      "source": [
        "- Предобработайте данные: нормализуйте их, преобразуйте в нужный формат (например, масштабирование от 0 до 1)"
      ]
    },
    {
      "cell_type": "code",
      "execution_count": 3,
      "metadata": {},
      "outputs": [],
      "source": [
        "# Предобработка данных\n",
        "x_train, x_test = x_train / 255.0, x_test / 255.0\n"
      ]
    },
    {
      "cell_type": "markdown",
      "metadata": {},
      "source": [
        "В этой строке кода выполняется нормализация данных обучающего и тестового наборов. \n",
        "\n",
        "В контексте обработки изображений, таких как набор данных MNIST, изображения обычно представлены в виде массивов, где каждое значение в массиве представляет интенсивность пикселя. Эти значения обычно находятся в диапазоне от 0 до 255.\n",
        "\n",
        "Нормализация данных - это важный шаг в предварительной обработке для многих алгоритмов машинного обучения. Она приводит все значения к диапазону между 0 и 1. Это делается путем деления каждого значения на максимальное значение в наборе данных. В данном случае, поскольку максимальное значение интенсивности пикселя равно 255, мы делим все значения на 255.\n",
        "\n",
        "Это улучшает стабильность и эффективность обучения модели, поскольку меньшие и более унифицированные значения облегчают обучение для многих алгоритмов."
      ]
    },
    {
      "cell_type": "markdown",
      "metadata": {},
      "source": [
        "## Шаг 2: Создание нейронной сети"
      ]
    },
    {
      "cell_type": "markdown",
      "metadata": {},
      "source": [
        "- Используйте модель Sequential из библиотеки tensorflow.keras.models\n",
        "- Добавьте слои к модели: открытый слой Flatten с inputshape=(28, 28), полносвязанный слой Dense с 128 нейронами и функцией активации ReLU, полносвязанный слой Dense с 10 нейронами и функцией активации softmax"
      ]
    },
    {
      "cell_type": "code",
      "execution_count": 4,
      "metadata": {},
      "outputs": [
        {
          "name": "stderr",
          "output_type": "stream",
          "text": [
            "/Users/artemkostylev/Library/Mobile Documents/com~apple~CloudDocs/PROJECTS/ВВИТ/Семестр 2/Lab4-TensorFlow/venv/lib/python3.12/site-packages/keras/src/layers/reshaping/flatten.py:37: UserWarning: Do not pass an `input_shape`/`input_dim` argument to a layer. When using Sequential models, prefer using an `Input(shape)` object as the first layer in the model instead.\n",
            "  super().__init__(**kwargs)\n"
          ]
        }
      ],
      "source": [
        "# Создание нейронной сети\n",
        "model = tf.keras.models.Sequential([\n",
        "    tf.keras.layers.Flatten(input_shape=(28, 28)),\n",
        "    tf.keras.layers.Dense(128, activation='relu'),\n",
        "    tf.keras.layers.Dense(10, activation='softmax')\n",
        "])"
      ]
    },
    {
      "cell_type": "markdown",
      "metadata": {},
      "source": [
        "В этом фрагменте кода создается модель нейронной сети с использованием библиотеки TensorFlow и ее высокоуровневого API Keras.\n",
        "\n",
        "Модель создается как последовательная (`Sequential`), что означает, что слои в модели соединяются последовательно, каждый слой передает свой выход следующему.\n",
        "\n",
        "Первый слой в этой модели - это слой `Flatten`. Этот слой преобразует входные данные, превращая двумерный массив (28x28 пикселей, что является стандартным размером изображений в наборе данных MNIST) в одномерный массив размером 784 (28*28). Это делается для того, чтобы данные могли быть обработаны полносвязными слоями, которые идут дальше.\n",
        "\n",
        "Второй слой - это полносвязный слой (`Dense`), состоящий из 128 нейронов (или узлов). В этом слое используется функция активации ReLU (Rectified Linear Unit). ReLU - это простая функция активации, которая возвращает вход, если он больше нуля, и возвращает ноль в противном случае.\n",
        "\n",
        "Третий и последний слой - это еще один полносвязный слой, но он состоит из 10 нейронов, что соответствует количеству классов в наборе данных MNIST (цифры от 0 до 9). В этом слое используется функция активации softmax, которая преобразует вектор входных данных в вектор вероятностей, где каждое значение представляет вероятность принадлежности входных данных к соответствующему классу."
      ]
    },
    {
      "cell_type": "markdown",
      "metadata": {},
      "source": [
        "## Шаг 3: Компиляция модели\n",
        "- Компилируйте модель с оптимизатором 'adam', функцией потерь 'sparsecategoricalcrossentropy' и метрикой 'accuracy'"
      ]
    },
    {
      "cell_type": "code",
      "execution_count": 5,
      "metadata": {},
      "outputs": [],
      "source": [
        "# Компиляция модели\n",
        "model.compile(optimizer='adam',\n",
        "            loss='sparse_categorical_crossentropy',\n",
        "            metrics=['accuracy'])"
      ]
    },
    {
      "cell_type": "markdown",
      "metadata": {},
      "source": [
        "В этом фрагменте кода происходит компиляция модели нейронной сети, которая была создана ранее. Компиляция модели - это этап, на котором определяются параметры обучения модели.\n",
        "\n",
        "Аргумент `optimizer='adam'` определяет, какой оптимизатор будет использоваться для обучения модели. Оптимизатор - это алгоритм, который изменяет веса и смещения в модели с целью минимизации функции потерь. \"Adam\" - это один из наиболее популярных оптимизаторов, так как он эффективен в большинстве случаев.\n",
        "\n",
        "Аргумент `loss='sparse_categorical_crossentropy'` определяет функцию потерь, которую оптимизатор пытается минимизировать. \"Sparse categorical crossentropy\" - это функция потерь, которая используется для задач классификации, где классы представлены как целые числа. Она подходит для многоклассовой классификации, когда классы не являются взаимоисключающими.\n",
        "\n",
        "Аргумент `metrics=['accuracy']` определяет метрики, которые будут вычисляться во время обучения и тестирования модели. В данном случае будет вычисляться точность классификации, которая является долей правильно классифицированных примеров."
      ]
    },
    {
      "cell_type": "markdown",
      "metadata": {},
      "source": [
        "## Шаг 4: Обучение модели\n",
        "- Используйте метод fit для обучения модели на обучающем наборе данных с указанием числа эпох (например, 5 эпох)"
      ]
    },
    {
      "cell_type": "code",
      "execution_count": 6,
      "metadata": {},
      "outputs": [
        {
          "name": "stdout",
          "output_type": "stream",
          "text": [
            "Epoch 1/5\n",
            "\u001b[1m1875/1875\u001b[0m \u001b[32m━━━━━━━━━━━━━━━━━━━━\u001b[0m\u001b[37m\u001b[0m \u001b[1m3s\u001b[0m 1ms/step - accuracy: 0.8775 - loss: 0.4258\n",
            "Epoch 2/5\n",
            "\u001b[1m1875/1875\u001b[0m \u001b[32m━━━━━━━━━━━━━━━━━━━━\u001b[0m\u001b[37m\u001b[0m \u001b[1m2s\u001b[0m 1ms/step - accuracy: 0.9655 - loss: 0.1185\n",
            "Epoch 3/5\n",
            "\u001b[1m1875/1875\u001b[0m \u001b[32m━━━━━━━━━━━━━━━━━━━━\u001b[0m\u001b[37m\u001b[0m \u001b[1m2s\u001b[0m 1ms/step - accuracy: 0.9766 - loss: 0.0749\n",
            "Epoch 4/5\n",
            "\u001b[1m1875/1875\u001b[0m \u001b[32m━━━━━━━━━━━━━━━━━━━━\u001b[0m\u001b[37m\u001b[0m \u001b[1m2s\u001b[0m 1ms/step - accuracy: 0.9825 - loss: 0.0560\n",
            "Epoch 5/5\n",
            "\u001b[1m1875/1875\u001b[0m \u001b[32m━━━━━━━━━━━━━━━━━━━━\u001b[0m\u001b[37m\u001b[0m \u001b[1m2s\u001b[0m 1ms/step - accuracy: 0.9877 - loss: 0.0402\n"
          ]
        }
      ],
      "source": [
        "# Обучение модели\n",
        "history = model.fit(x_train, y_train, epochs=5)"
      ]
    },
    {
      "cell_type": "markdown",
      "metadata": {},
      "source": [
        "В этом фрагменте кода происходит обучение модели нейронной сети, которая была создана и скомпилирована ранее.\n",
        "\n",
        "Метод `fit` используется для обучения модели в течение определенного количества эпох. Эпоха - это один проход по всему набору обучающих данных. В данном случае модель обучается в течение 5 эпох.\n",
        "\n",
        "Аргументы `x_train` и `y_train` - это обучающие данные и соответствующие им метки. `x_train` - это изображения рукописных цифр, а `y_train` - это соответствующие им метки классов (целые числа от 0 до 9).\n",
        "\n",
        "Обучение модели может занять некоторое время, в зависимости от размера обучающего набора данных, сложности модели и количества эпох.\n",
        "\n",
        "Результат обучения (объект `history`) содержит информацию о процессе обучения, включая значения функции потерь и метрик на каждой эпохе. Эту информацию можно использовать для анализа процесса обучения, например, для определения, происходит ли переобучение."
      ]
    },
    {
      "cell_type": "markdown",
      "metadata": {},
      "source": [
        "## Шаг 5: Оценка качества модели\n",
        "- Используйте метод evaluate для оценки качества модели на тестовом наборе данных"
      ]
    },
    {
      "cell_type": "code",
      "execution_count": 7,
      "metadata": {},
      "outputs": [
        {
          "name": "stdout",
          "output_type": "stream",
          "text": [
            "\u001b[1m313/313\u001b[0m \u001b[32m━━━━━━━━━━━━━━━━━━━━\u001b[0m\u001b[37m\u001b[0m \u001b[1m0s\u001b[0m 972us/step - accuracy: 0.9719 - loss: 0.0854\n"
          ]
        }
      ],
      "source": [
        "# Оценка качества модели\n",
        "test_loss, test_accuracy = model.evaluate(x_test, y_test)"
      ]
    },
    {
      "cell_type": "markdown",
      "metadata": {},
      "source": [
        "В этом фрагменте кода происходит оценка качества обученной модели на тестовых данных.\n",
        "\n",
        "Метод `evaluate` используется для оценки функции потерь и метрик модели на тестовых данных. В данном случае тестовые данные (`x_test`) и соответствующие им метки (`y_test`) передаются в метод `evaluate`.\n",
        "\n",
        "Результатом выполнения этого метода является список, который содержит значения функции потерь и всех метрик модели на тестовых данных. В данном случае возвращаемые значения сохраняются в переменных `test_loss` и `test_accuracy`.\n",
        "\n",
        "`test_loss` - это значение функции потерь модели на тестовых данных. Меньшее значение функции потерь указывает на лучшее качество модели.\n",
        "\n",
        "`test_accuracy` - это значение метрики точности модели на тестовых данных. Это доля правильно классифицированных примеров. Большее значение точности указывает на лучшее качество модели."
      ]
    },
    {
      "cell_type": "markdown",
      "metadata": {},
      "source": [
        "- Выведите точность модели на тестовом наборе данных"
      ]
    },
    {
      "cell_type": "code",
      "execution_count": 8,
      "metadata": {},
      "outputs": [
        {
          "name": "stdout",
          "output_type": "stream",
          "text": [
            "Точность модели на тестовом наборе данных: 0.9763000011444092\n"
          ]
        }
      ],
      "source": [
        "print(f'Точность модели на тестовом наборе данных: {test_accuracy}')"
      ]
    },
    {
      "cell_type": "markdown",
      "metadata": {},
      "source": [
        "## Шаг 6: Анализ результатов\n",
        "- Импортируйте библиотеку matplotlib.pyplot для построения графика"
      ]
    },
    {
      "cell_type": "code",
      "execution_count": 9,
      "metadata": {},
      "outputs": [],
      "source": [
        "# Анализ результатов\n",
        "import matplotlib.pyplot as plt"
      ]
    },
    {
      "cell_type": "markdown",
      "metadata": {},
      "source": [
        "- Постройте график кривой обучения (accuracy) с помощью данных из истории обучения"
      ]
    },
    {
      "cell_type": "code",
      "execution_count": 10,
      "metadata": {
        "id": "rHwpEP3WLEUX"
      },
      "outputs": [
        {
          "data": {
            "image/png": "[encoded data removed]",
            "text/plain": [
              "<Figure size 640x480 with 1 Axes>"
            ]
          },
          "metadata": {},
          "output_type": "display_data"
        }
      ],
      "source": [
        "plt.plot(history.history['accuracy'])\n",
        "plt.title('Model accuracy')\n",
        "plt.ylabel('Accuracy')\n",
        "plt.xlabel('Epoch')\n",
        "plt.show()"
      ]
    },
    {
      "cell_type": "markdown",
      "metadata": {},
      "source": [
        "**Данный график показывает, как менялась точность модели на каждой эпохе обучения (по оси X - эпохи, по оси Y - точность)**"
      ]
    }
  ],
  "metadata": {
    "colab": {
      "provenance": []
    },
    "kernelspec": {
      "display_name": "Python 3",
      "name": "python3"
    },
    "language_info": {
      "codemirror_mode": {
        "name": "ipython",
        "version": 3
      },
      "file_extension": ".py",
      "mimetype": "text/x-python",
      "name": "python",
      "nbconvert_exporter": "python",
      "pygments_lexer": "ipython3",
      "version": "3.12.0"
    }
  },
  "nbformat": 4,
  "nbformat_minor": 0
}
